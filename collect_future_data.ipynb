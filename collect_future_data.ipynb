{
 "cells": [
  {
   "cell_type": "code",
   "execution_count": 150,
   "metadata": {},
   "outputs": [],
   "source": [
    " import datetime\n",
    "def dateprepare(daylen):\n",
    "    startday = datetime.datetime.strptime('20190415', '%Y%m%d')\n",
    "    k=[]\n",
    "    k.append(startday.strftime(\"%Y%m/%d\"))\n",
    "    for i in range(daylen):\n",
    "        newday = (startday+datetime.timedelta(days=1))\n",
    "        formatday=newday.strftime(\"%Y%m/%d\")\n",
    "        k.append(formatday)\n",
    "        startday=newday\n",
    "    return k\n",
    "def change(filecontent):\n",
    "    with open(\"data.xml\",'wb+') as f:\n",
    "        f.write(filecontent)\n",
    "    with codecs.open(\"data.xml\",'r',encoding='gbk') as fp:\n",
    "        text = fp.read().replace('<?xml version=\"1.0\" encoding=\"GBK\"?>', '<?xml version=\"1.0\" encoding=\"UTF-8\"?>')\n",
    "    return text\n",
    "import codecs\n",
    "from urllib.parse import urlencode\n",
    "import requests\n",
    "from lxml import etree\n",
    "import xml.etree.cElementTree as ET\n",
    "def getcontent():\n",
    "    base=\"http://www.cffex.com.cn/sj/hqsj/rtj/\"\n",
    "    headers = {\n",
    "        'Host': 'www.cffex.com.cn',\n",
    "        'Referer': 'http://www.cffex.com.cn/rtj/',\n",
    "        'User-Agent': 'Mozilla/5.0 (Macintosh; Intel Mac OS X 10_12_3) AppleWebKit/537.36 (KHTML, like Gecko) Chrome/58.0.3029.110 Safari/537.36',\n",
    "        'X-Requested-With': 'XMLHttpRequest',\n",
    "    }\n",
    "    whole=[]\n",
    "    #1426+296 = 1722\n",
    "    changedate=dateprepare(1778)\n",
    "    for i in range(1778):\n",
    "            url=base+changedate[i]+\"/index.xml\"\n",
    "       # url=base+'201004/17'+\"/index.xml\"\n",
    "            #print(changedate[i])\n",
    "            response = requests.get(url, headers=headers)\n",
    "            if response.status_code == 200:\n",
    "                b=[]\n",
    "                xmlcontent=response.content\n",
    "                verify=\"http://www.w3.org/TR/xhtml1/DTD/xhtml1-transitional.dtd\"\n",
    "                if verify not in str(xmlcontent):      \n",
    "                    handlecontent=change(xmlcontent)\n",
    "               # print(handlecontent)\n",
    "                    root = ET.fromstring(handlecontent)\n",
    "                    for i in range(6):\n",
    "                            b.append(root[4][i].text.strip(' '))\n",
    "            if len(b)!=0:\n",
    "                whole.append(b)\n",
    "                with open('wholelist.txt','w+') as file:\n",
    "                    for i in b:\n",
    "                        file.write(i)\n",
    "                    file.write('\\n')\n",
    "    return whole\n",
    "a=getcontent()\n"
   ]
  },
  {
   "cell_type": "code",
   "execution_count": 151,
   "metadata": {},
   "outputs": [],
   "source": [
    "import pandas as pd\n",
    "df = pd.DataFrame(a, columns=['code', 'day', 'open','high','low','close']) \n",
    "df.to_csv('futuredatanewallfinal.csv')"
   ]
  },
  {
   "cell_type": "code",
   "execution_count": 5,
   "metadata": {},
   "outputs": [
    {
     "data": {
      "text/plain": [
       "time.struct_time(tm_year=2011, tm_mon=5, tm_mday=5, tm_hour=0, tm_min=0, tm_sec=0, tm_wday=3, tm_yday=125, tm_isdst=-1)"
      ]
     },
     "execution_count": 5,
     "metadata": {},
     "output_type": "execute_result"
    }
   ],
   "source": [
    "import time\n",
    "def datacombine():"
   ]
  },
  {
   "cell_type": "code",
   "execution_count": 144,
   "metadata": {},
   "outputs": [],
   "source": [
    "import datetime\n",
    "startday = datetime.datetime.strptime('2010416', '%Y%m%d')\n",
    "k=[]\n",
    "k.append(startday.strftime(\"%Y%m/%d\"))\n",
    "for i in range(400):\n",
    "    newday = (startday+datetime.timedelta(days=1))\n",
    "    formatday=newday.strftime(\"%Y%m/%d\")\n",
    "    k.append(formatday)\n",
    "    startday=newday\n",
    "\n"
   ]
  },
  {
   "cell_type": "code",
   "execution_count": 145,
   "metadata": {},
   "outputs": [
    {
     "data": {
      "text/plain": [
       "294"
      ]
     },
     "execution_count": 145,
     "metadata": {},
     "output_type": "execute_result"
    }
   ],
   "source": [
    "star=datetime.datetime(2019, 3,11)\n",
    "end=datetime.datetime(2019, 12,30)\n",
    "(end-star).days"
   ]
  },
  {
   "cell_type": "code",
   "execution_count": 77,
   "metadata": {},
   "outputs": [
    {
     "name": "stdout",
     "output_type": "stream",
     "text": [
      "b'\\n<!DOCTYPE html PUBLIC \"-//W3C//DTD XHTML 1.0 Transitional//EN\" \"http://www.w3.org/TR/xhtml1/DTD/xhtml1-transitional.dtd\">\\n<html xmlns=\"http://www.w3.org/1999/xhtml\">\\n<head>\\n<meta http-equiv=\"Content-Type\" content=\"text/html; charset=gb2312\" />\\n<title>\\xcd\\xf8\\xd2\\xb3\\xb4\\xed\\xce\\xf3</title>\\n<style type=\"text/css\">\\n<!--\\nbody {\\n\\tmargin-left: 0px;\\n\\tmargin-top: 0px;\\n\\tmargin-right: 0px;\\n\\tmargin-bottom: 0px;\\n}\\na.blue_404:link {\\n\\tfont-size: 14px;\\n\\tcolor: #2981b9;\\n\\ttext-decoration: none;\\n}\\na.blue_404:visited {\\n\\tfont-size: 14px;\\n\\tcolor: #2981b9;\\n\\ttext-decoration: none;\\n}\\na.blue_404:hover {\\n\\tfont-size: 14px;\\n\\tcolor: #2981b9;\\n\\ttext-decoration: underline;\\n}\\na.blue_404:active {\\n\\tfont-size: 14px;\\n\\tcolor: #2981b9;\\n\\ttext-decoration: underline;\\n}\\n.gray_404 {\\n\\tfont-size: 14px;\\n\\tcolor: #6d6d6d;\\n}\\n-->\\n</style>\\n</head>\\n\\n<body>\\n<table width=\"1001\" border=\"0\" align=\"center\" cellpadding=\"0\" cellspacing=\"0\">\\n  <tr>\\n    <td height=\"568\" valign=\"top\" background=\"images/404_bg.gif\"><table width=\"100%\" border=\"0\" cellspacing=\"0\" cellpadding=\"0\">\\n      <tr>\\n        <td height=\"72\">&nbsp;</td>\\n      </tr>\\n    </table>\\n      <table width=\"730\" border=\"0\" align=\"center\" cellpadding=\"0\" cellspacing=\"0\">\\n        <tr>\\n          <td height=\"345\" valign=\"top\" background=\"images/404_1.gif\"><table width=\"100%\" border=\"0\" cellspacing=\"0\" cellpadding=\"0\">\\n            <tr>\\n              <td height=\"80\">&nbsp;</td>\\n              <td>&nbsp;</td>\\n            </tr>\\n            <tr>\\n              <td width=\"55\" height=\"40\">&nbsp;</td>\\n              <td class=\"gray_404\">\\xc4\\xfa\\xd2\\xaa\\xb2\\xe9\\xbf\\xb4\\xb5\\xc4\\xcd\\xf8\\xd2\\xb3\\xbf\\xc9\\xc4\\xdc\\xd2\\xd1\\xb1\\xbb\\xc9\\xbe\\xb3\\xfd\\xa1\\xa2\\xc3\\xfb\\xb3\\xc6\\xd2\\xd1\\xb1\\xbb\\xb8\\xfc\\xb8\\xc4\\xa3\\xac\\xbb\\xf2\\xd5\\xdf\\xd4\\xdd\\xca\\xb1\\xb2\\xbb\\xbf\\xc9\\xd3\\xc3\\xa1\\xa3</td>\\n            </tr>\\n\\t\\t\\t<!--\\n            <tr>\\n              <td width=\"55\" height=\"40\">&nbsp;</td>\\n              <td><span class=\"gray_404\">&gt;&gt;</span><a href=\"#\" class=\"blue_404\">\\n\\t\\t\\t  \\xb7\\xb5\\xbb\\xd8\\xd6\\xae\\xc7\\xb0\\xe4\\xaf\\xc0\\xc0\\xb5\\xc4\\xd2\\xb3\\xc3\\xe6</a></td>\\n            </tr>\\n\\t\\t\\t-->\\n            <tr>\\n              <td width=\"55\" height=\"40\">&nbsp;</td>\\n              <td width=\"93%\"><span class=\"gray_404\">\\xb7\\xb5\\xbb\\xd8</span><strong><a href=\"/\" class=\"blue_404\">\\xca\\xd7\\xd2\\xb3</a></strong></td>\\n            </tr>\\n          </table></td>\\n        </tr>\\n      </table></td>\\n  </tr>\\n</table>\\n</body>\\n</html>\\n'\n",
      "True\n"
     ]
    },
    {
     "ename": "ParseError",
     "evalue": "undefined entity &nbsp;: line 48, column 24 (<string>)",
     "output_type": "error",
     "traceback": [
      "Traceback \u001b[1;36m(most recent call last)\u001b[0m:\n",
      "  File \u001b[0;32m\"D:\\Anaconda3\\lib\\site-packages\\IPython\\core\\interactiveshell.py\"\u001b[0m, line \u001b[0;32m3325\u001b[0m, in \u001b[0;35mrun_code\u001b[0m\n    exec(code_obj, self.user_global_ns, self.user_ns)\n",
      "  File \u001b[0;32m\"<ipython-input-77-c49d6f830859>\"\u001b[0m, line \u001b[0;32m20\u001b[0m, in \u001b[0;35m<module>\u001b[0m\n    root = ET.fromstring(handlecontent)\n",
      "\u001b[1;36m  File \u001b[1;32m\"D:\\Anaconda3\\lib\\xml\\etree\\ElementTree.py\"\u001b[1;36m, line \u001b[1;32m1315\u001b[1;36m, in \u001b[1;35mXML\u001b[1;36m\u001b[0m\n\u001b[1;33m    parser.feed(text)\u001b[0m\n",
      "\u001b[1;36m  File \u001b[1;32m\"<string>\"\u001b[1;36m, line \u001b[1;32munknown\u001b[0m\n\u001b[1;31mParseError\u001b[0m\u001b[1;31m:\u001b[0m undefined entity &nbsp;: line 48, column 24\n"
     ]
    }
   ],
   "source": [
    "base=\"http://www.cffex.com.cn/sj/hqsj/rtj/\"\n",
    "headers = {\n",
    "    'Host': 'www.cffex.com.cn',\n",
    "    'Referer': 'http://www.cffex.com.cn/rtj/',\n",
    "    'User-Agent': 'Mozilla/5.0 (Macintosh; Intel Mac OS X 10_12_3) AppleWebKit/537.36 (KHTML, like Gecko) Chrome/58.0.3029.110 Safari/537.36',\n",
    "    'X-Requested-With': 'XMLHttpRequest',\n",
    "}\n",
    "whole=[]\n",
    "url=base+'201004/17'+\"/index.xml\"\n",
    "try:\n",
    "        response = requests.get(url, headers=headers)\n",
    "        if response.status_code == 200:\n",
    "            b=[]\n",
    "            verify=\"http://www.w3.org/TR/xhtml1/DTD/xhtml1-transitional.dtd\"\n",
    "            xmlcontent=response.content\n",
    "            print(xmlcontent)\n",
    "            if verify in str(xmlcontent):\n",
    "                \n",
    "            print(verify in str(xmlcontent))\n",
    "            handlecontent=change(xmlcontent)\n",
    "           # print(handlecontent)\n",
    "            root = ET.fromstring(handlecontent)\n",
    "            for i in range(6):\n",
    "                b.append(root[0][i].text)\n",
    "except requests.ConnectionError as e:\n",
    "        print('Error', e.args)\n"
   ]
  },
  {
   "cell_type": "code",
   "execution_count": 80,
   "metadata": {},
   "outputs": [
    {
     "name": "stdout",
     "output_type": "stream",
     "text": [
      "True\n"
     ]
    }
   ],
   "source": [
    "b=[]\n",
    "print(len(b)==0)"
   ]
  },
  {
   "cell_type": "code",
   "execution_count": 82,
   "metadata": {},
   "outputs": [
    {
     "name": "stdout",
     "output_type": "stream",
     "text": [
      "IF1005\n"
     ]
    }
   ],
   "source": [
    "a='IF1005                        '\n",
    "print(a.strip(' '))"
   ]
  },
  {
   "cell_type": "code",
   "execution_count": null,
   "metadata": {},
   "outputs": [],
   "source": []
  }
 ],
 "metadata": {
  "kernelspec": {
   "display_name": "Python 3",
   "language": "python",
   "name": "python3"
  },
  "language_info": {
   "codemirror_mode": {
    "name": "ipython",
    "version": 3
   },
   "file_extension": ".py",
   "mimetype": "text/x-python",
   "name": "python",
   "nbconvert_exporter": "python",
   "pygments_lexer": "ipython3",
   "version": "3.7.3"
  }
 },
 "nbformat": 4,
 "nbformat_minor": 2
}
